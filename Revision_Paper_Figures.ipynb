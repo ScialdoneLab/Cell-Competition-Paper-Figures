{
 "cells": [
  {
   "cell_type": "code",
   "execution_count": 1,
   "metadata": {},
   "outputs": [],
   "source": [
    "%matplotlib inline\n"
   ]
  },
  {
   "cell_type": "code",
   "execution_count": 2,
   "metadata": {},
   "outputs": [
    {
     "name": "stdout",
     "output_type": "stream",
     "text": [
      "WARNING: If you miss a compact list, please try `print_header`!\n",
      "-----\n",
      "anndata     0.7.4\n",
      "scanpy      1.6.0\n",
      "sinfo       0.3.1\n",
      "-----\n",
      "PIL                 7.2.0\n",
      "anndata             0.7.4\n",
      "appnope             0.1.0\n",
      "backcall            0.2.0\n",
      "cffi                1.14.1\n",
      "colorama            0.4.4\n",
      "cycler              0.10.0\n",
      "cython_runtime      NA\n",
      "dateutil            2.8.1\n",
      "decorator           4.4.2\n",
      "future_fstrings     NA\n",
      "get_version         2.1\n",
      "h5py                2.10.0\n",
      "ipykernel           5.3.4\n",
      "ipython_genutils    0.2.0\n",
      "jedi                0.17.2\n",
      "joblib              0.16.0\n",
      "kiwisolver          1.2.0\n",
      "legacy_api_wrap     1.2\n",
      "llvmlite            0.34.0\n",
      "matplotlib          3.3.1\n",
      "mpl_toolkits        NA\n",
      "natsort             7.0.1\n",
      "numba               0.51.1\n",
      "numexpr             2.7.1\n",
      "numpy               1.19.4\n",
      "packaging           20.4\n",
      "pandas              1.1.5\n",
      "parso               0.7.1\n",
      "pexpect             4.8.0\n",
      "pickleshare         0.7.5\n",
      "pkg_resources       NA\n",
      "prompt_toolkit      3.0.7\n",
      "ptyprocess          0.6.0\n",
      "pygments            2.6.1\n",
      "pylab               NA\n",
      "pyparsing           2.4.7\n",
      "pytz                2020.1\n",
      "scanpy              1.6.0\n",
      "scipy               1.5.2\n",
      "setuptools_scm      NA\n",
      "sinfo               0.3.1\n",
      "six                 1.15.0\n",
      "sklearn             0.23.2\n",
      "storemagic          NA\n",
      "tables              3.6.1\n",
      "tornado             6.0.4\n",
      "traitlets           5.0.0\n",
      "typing_extensions   NA\n",
      "wcwidth             0.2.5\n",
      "zmq                 19.0.2\n",
      "-----\n",
      "IPython             7.18.1\n",
      "jupyter_client      6.1.7\n",
      "jupyter_core        4.6.3\n",
      "notebook            6.1.3\n",
      "-----\n",
      "Python 3.8.5 | packaged by conda-forge | (default, Aug 29 2020, 01:18:42) [Clang 10.0.1 ]\n",
      "macOS-10.14.6-x86_64-i386-64bit\n",
      "8 logical CPU cores, i386\n",
      "-----\n",
      "Session information updated at 2021-01-04 18:51\n",
      "\n"
     ]
    }
   ],
   "source": [
    "import numpy as np\n",
    "import matplotlib.pyplot as plt\n",
    "import pylab\n",
    "import pandas as pd\n",
    "import anndata as ad\n",
    "import scanpy as sc\n",
    "import matplotlib\n",
    "sc.settings.verbosity = 3  # verbosity: errors (0), warnings (1), info (2), hints (3)\n",
    "sc.logging.print_versions()"
   ]
  },
  {
   "cell_type": "code",
   "execution_count": 3,
   "metadata": {},
   "outputs": [],
   "source": [
    "import os\n",
    "os.chdir('/Users/gabriele.lubatti/Desktop/Phd/Cell_Competition/Cell_Competition_Github/Input_data_Paper_Figures')"
   ]
  },
  {
   "cell_type": "code",
   "execution_count": 4,
   "metadata": {},
   "outputs": [],
   "source": [
    "adata = ad.read_text(\"data_fmk.txt\").T\n",
    "metadata = pd.read_csv('meta_fmk.txt', sep=\" \",dtype=\"category\")"
   ]
  },
  {
   "cell_type": "code",
   "execution_count": 5,
   "metadata": {},
   "outputs": [
    {
     "data": {
      "text/plain": [
       "AnnData object with n_obs × n_vars = 367 × 37351"
      ]
     },
     "execution_count": 5,
     "metadata": {},
     "output_type": "execute_result"
    }
   ],
   "source": [
    "adata"
   ]
  },
  {
   "cell_type": "code",
   "execution_count": 6,
   "metadata": {},
   "outputs": [],
   "source": [
    "adata.obs['cell_name']=list(metadata['cell_name'])\n",
    "adata.obs['orig_cluster'] = list(metadata['nomi_cluster'])"
   ]
  },
  {
   "cell_type": "code",
   "execution_count": 7,
   "metadata": {},
   "outputs": [
    {
     "data": {
      "text/plain": [
       "367"
      ]
     },
     "execution_count": 7,
     "metadata": {},
     "output_type": "execute_result"
    }
   ],
   "source": [
    "len(adata.obs['cell_name'])"
   ]
  },
  {
   "cell_type": "code",
   "execution_count": 8,
   "metadata": {},
   "outputs": [],
   "source": [
    "adata.X = adata.X.astype('float64') "
   ]
  },
  {
   "cell_type": "code",
   "execution_count": 9,
   "metadata": {},
   "outputs": [
    {
     "name": "stdout",
     "output_type": "stream",
     "text": [
      "running recipe zheng17\n",
      "filtered out 4492 genes that are detected in less than 1 counts\n"
     ]
    },
    {
     "name": "stderr",
     "output_type": "stream",
     "text": [
      "/opt/anaconda3/envs/cellrank/lib/python3.8/site-packages/anndata/_core/anndata.py:1094: FutureWarning: is_categorical is deprecated and will be removed in a future version.  Use is_categorical_dtype instead\n",
      "  if not is_categorical(df_full[k]):\n"
     ]
    },
    {
     "name": "stdout",
     "output_type": "stream",
     "text": [
      "normalizing counts per cell\n",
      "    finished (0:00:00)\n",
      "extracting highly variable genes\n",
      "    finished (0:00:00)\n",
      "normalizing counts per cell\n",
      "    finished (0:00:00)\n",
      "    finished (0:00:00)\n",
      "computing PCA\n",
      "    with n_comps=50\n"
     ]
    },
    {
     "name": "stderr",
     "output_type": "stream",
     "text": [
      "/opt/anaconda3/envs/cellrank/lib/python3.8/site-packages/anndata/_core/anndata.py:1094: FutureWarning: is_categorical is deprecated and will be removed in a future version.  Use is_categorical_dtype instead\n",
      "  if not is_categorical(df_full[k]):\n"
     ]
    },
    {
     "name": "stdout",
     "output_type": "stream",
     "text": [
      "    finished (0:00:00)\n"
     ]
    }
   ],
   "source": [
    "sc.pp.recipe_zheng17(adata)\n",
    "sc.tl.pca(adata, svd_solver='arpack')"
   ]
  },
  {
   "cell_type": "code",
   "execution_count": 10,
   "metadata": {},
   "outputs": [
    {
     "name": "stdout",
     "output_type": "stream",
     "text": [
      "computing neighbors\n",
      "    using 'X_pca' with n_pcs = 20\n",
      "    finished: added to `.uns['neighbors']`\n",
      "    `.obsp['distances']`, distances for each pair of neighbors\n",
      "    `.obsp['connectivities']`, weighted adjacency matrix (0:00:03)\n",
      "drawing single-cell graph using layout 'fa'\n",
      "WARNING: Package 'fa2' is not installed, falling back to layout 'fr'.To use the faster and better ForceAtlas2 layout, install package 'fa2' (`pip install fa2`).\n",
      "    finished: added\n",
      "    'X_draw_graph_fr', graph_drawing coordinates (adata.obsm) (0:00:00)\n"
     ]
    }
   ],
   "source": [
    "sc.pp.neighbors(adata, n_neighbors=4, n_pcs=20)\n",
    "sc.tl.draw_graph(adata)"
   ]
  },
  {
   "cell_type": "code",
   "execution_count": 11,
   "metadata": {},
   "outputs": [
    {
     "name": "stderr",
     "output_type": "stream",
     "text": [
      "/opt/anaconda3/envs/cellrank/lib/python3.8/site-packages/anndata/_core/anndata.py:1192: FutureWarning: is_categorical is deprecated and will be removed in a future version.  Use is_categorical_dtype instead\n",
      "  if is_string_dtype(df[key]) and not is_categorical(df[key])\n",
      "... storing 'orig_cluster' as categorical\n"
     ]
    },
    {
     "name": "stdout",
     "output_type": "stream",
     "text": [
      "running PAGA\n",
      "    finished: added\n",
      "    'paga/connectivities', connectivities adjacency (adata.uns)\n",
      "    'paga/connectivities_tree', connectivities subtree (adata.uns) (0:00:00)\n"
     ]
    }
   ],
   "source": [
    "sc.tl.paga(adata,groups='orig_cluster')"
   ]
  },
  {
   "cell_type": "code",
   "execution_count": 14,
   "metadata": {},
   "outputs": [
    {
     "ename": "AttributeError",
     "evalue": "module 'matplotlib.cbook' has no attribute 'iterable'",
     "output_type": "error",
     "traceback": [
      "\u001b[0;31m---------------------------------------------------------------------------\u001b[0m",
      "\u001b[0;31mAttributeError\u001b[0m                            Traceback (most recent call last)",
      "\u001b[0;32m<ipython-input-14-5092b08ca8d2>\u001b[0m in \u001b[0;36m<module>\u001b[0;34m\u001b[0m\n\u001b[0;32m----> 1\u001b[0;31m \u001b[0msc\u001b[0m\u001b[0;34m.\u001b[0m\u001b[0mpl\u001b[0m\u001b[0;34m.\u001b[0m\u001b[0mpaga\u001b[0m\u001b[0;34m(\u001b[0m\u001b[0madata\u001b[0m\u001b[0;34m,\u001b[0m\u001b[0mcolor\u001b[0m\u001b[0;34m=\u001b[0m\u001b[0;34m[\u001b[0m\u001b[0;34m'orig_cluster'\u001b[0m\u001b[0;34m]\u001b[0m\u001b[0;34m,\u001b[0m\u001b[0mthreshold\u001b[0m\u001b[0;34m=\u001b[0m\u001b[0;36m0.1\u001b[0m\u001b[0;34m)\u001b[0m\u001b[0;34m\u001b[0m\u001b[0;34m\u001b[0m\u001b[0m\n\u001b[0m",
      "\u001b[0;32m~/.local/lib/python3.7/site-packages/scanpy/plotting/_tools/paga.py\u001b[0m in \u001b[0;36mpaga\u001b[0;34m(adata, threshold, color, layout, layout_kwds, init_pos, root, labels, single_component, solid_edges, dashed_edges, transitions, fontsize, fontweight, fontoutline, text_kwds, node_size_scale, node_size_power, edge_width_scale, min_edge_width, max_edge_width, arrowsize, title, left_margin, random_state, pos, normalize_to_color, cmap, cax, colorbar, cb_kwds, frameon, add_pos, export_to_gexf, use_raw, colors, groups, plot, show, save, ax)\u001b[0m\n\u001b[1;32m    560\u001b[0m                 \u001b[0msingle_component\u001b[0m\u001b[0;34m=\u001b[0m\u001b[0msingle_component\u001b[0m\u001b[0;34m,\u001b[0m\u001b[0;34m\u001b[0m\u001b[0;34m\u001b[0m\u001b[0m\n\u001b[1;32m    561\u001b[0m                 \u001b[0marrowsize\u001b[0m\u001b[0;34m=\u001b[0m\u001b[0marrowsize\u001b[0m\u001b[0;34m,\u001b[0m\u001b[0;34m\u001b[0m\u001b[0;34m\u001b[0m\u001b[0m\n\u001b[0;32m--> 562\u001b[0;31m                 \u001b[0mpos\u001b[0m\u001b[0;34m=\u001b[0m\u001b[0mpos\u001b[0m\u001b[0;34m,\u001b[0m\u001b[0;34m\u001b[0m\u001b[0;34m\u001b[0m\u001b[0m\n\u001b[0m\u001b[1;32m    563\u001b[0m             )\n\u001b[1;32m    564\u001b[0m             \u001b[0;32mif\u001b[0m \u001b[0mcolorbars\u001b[0m\u001b[0;34m[\u001b[0m\u001b[0micolor\u001b[0m\u001b[0;34m]\u001b[0m\u001b[0;34m:\u001b[0m\u001b[0;34m\u001b[0m\u001b[0;34m\u001b[0m\u001b[0m\n",
      "\u001b[0;32m~/.local/lib/python3.7/site-packages/scanpy/plotting/_tools/paga.py\u001b[0m in \u001b[0;36m_paga_graph\u001b[0;34m(adata, ax, solid_edges, dashed_edges, adjacency_solid, adjacency_dashed, transitions, threshold, root, colors, labels, fontsize, fontweight, fontoutline, text_kwds, node_size_scale, node_size_power, edge_width_scale, normalize_to_color, title, pos, cmap, frameon, min_edge_width, max_edge_width, export_to_gexf, colorbar, use_raw, cb_kwds, single_component, arrowsize)\u001b[0m\n\u001b[1;32m    796\u001b[0m             \u001b[0mwarnings\u001b[0m\u001b[0;34m.\u001b[0m\u001b[0msimplefilter\u001b[0m\u001b[0;34m(\u001b[0m\u001b[0;34m\"ignore\"\u001b[0m\u001b[0;34m)\u001b[0m\u001b[0;34m\u001b[0m\u001b[0;34m\u001b[0m\u001b[0m\n\u001b[1;32m    797\u001b[0m             nx.draw_networkx_edges(\n\u001b[0;32m--> 798\u001b[0;31m                 \u001b[0mnx_g_solid\u001b[0m\u001b[0;34m,\u001b[0m \u001b[0mpos\u001b[0m\u001b[0;34m,\u001b[0m \u001b[0max\u001b[0m\u001b[0;34m=\u001b[0m\u001b[0max\u001b[0m\u001b[0;34m,\u001b[0m \u001b[0mwidth\u001b[0m\u001b[0;34m=\u001b[0m\u001b[0mwidths\u001b[0m\u001b[0;34m,\u001b[0m \u001b[0medge_color\u001b[0m\u001b[0;34m=\u001b[0m\u001b[0;34m'black'\u001b[0m\u001b[0;34m\u001b[0m\u001b[0;34m\u001b[0m\u001b[0m\n\u001b[0m\u001b[1;32m    799\u001b[0m             )\n\u001b[1;32m    800\u001b[0m     \u001b[0;31m# draw directed edges\u001b[0m\u001b[0;34m\u001b[0m\u001b[0;34m\u001b[0m\u001b[0;34m\u001b[0m\u001b[0m\n",
      "\u001b[0;32m/opt/anaconda3/lib/python3.7/site-packages/networkx/drawing/nx_pylab.py\u001b[0m in \u001b[0;36mdraw_networkx_edges\u001b[0;34m(G, pos, edgelist, width, edge_color, style, alpha, arrowstyle, arrowsize, edge_cmap, edge_vmin, edge_vmax, ax, arrows, label, node_size, nodelist, node_shape, connectionstyle, **kwds)\u001b[0m\n\u001b[1;32m    577\u001b[0m     \u001b[0medge_pos\u001b[0m \u001b[0;34m=\u001b[0m \u001b[0mnp\u001b[0m\u001b[0;34m.\u001b[0m\u001b[0masarray\u001b[0m\u001b[0;34m(\u001b[0m\u001b[0;34m[\u001b[0m\u001b[0;34m(\u001b[0m\u001b[0mpos\u001b[0m\u001b[0;34m[\u001b[0m\u001b[0me\u001b[0m\u001b[0;34m[\u001b[0m\u001b[0;36m0\u001b[0m\u001b[0;34m]\u001b[0m\u001b[0;34m]\u001b[0m\u001b[0;34m,\u001b[0m \u001b[0mpos\u001b[0m\u001b[0;34m[\u001b[0m\u001b[0me\u001b[0m\u001b[0;34m[\u001b[0m\u001b[0;36m1\u001b[0m\u001b[0;34m]\u001b[0m\u001b[0;34m]\u001b[0m\u001b[0;34m)\u001b[0m \u001b[0;32mfor\u001b[0m \u001b[0me\u001b[0m \u001b[0;32min\u001b[0m \u001b[0medgelist\u001b[0m\u001b[0;34m]\u001b[0m\u001b[0;34m)\u001b[0m\u001b[0;34m\u001b[0m\u001b[0;34m\u001b[0m\u001b[0m\n\u001b[1;32m    578\u001b[0m \u001b[0;34m\u001b[0m\u001b[0m\n\u001b[0;32m--> 579\u001b[0;31m     \u001b[0;32mif\u001b[0m \u001b[0;32mnot\u001b[0m \u001b[0mcb\u001b[0m\u001b[0;34m.\u001b[0m\u001b[0miterable\u001b[0m\u001b[0;34m(\u001b[0m\u001b[0mwidth\u001b[0m\u001b[0;34m)\u001b[0m\u001b[0;34m:\u001b[0m\u001b[0;34m\u001b[0m\u001b[0;34m\u001b[0m\u001b[0m\n\u001b[0m\u001b[1;32m    580\u001b[0m         \u001b[0mlw\u001b[0m \u001b[0;34m=\u001b[0m \u001b[0;34m(\u001b[0m\u001b[0mwidth\u001b[0m\u001b[0;34m,\u001b[0m\u001b[0;34m)\u001b[0m\u001b[0;34m\u001b[0m\u001b[0;34m\u001b[0m\u001b[0m\n\u001b[1;32m    581\u001b[0m     \u001b[0;32melse\u001b[0m\u001b[0;34m:\u001b[0m\u001b[0;34m\u001b[0m\u001b[0;34m\u001b[0m\u001b[0m\n",
      "\u001b[0;31mAttributeError\u001b[0m: module 'matplotlib.cbook' has no attribute 'iterable'"
     ]
    },
    {
     "data": {
      "image/png": "[encoded data removed]",
      "text/plain": [
       "<Figure size 445.882x288 with 1 Axes>"
      ]
     },
     "metadata": {
      "needs_background": "light"
     },
     "output_type": "display_data"
    }
   ],
   "source": [
    "sc.pl.paga(adata,color=['orig_cluster'],threshold=0.1)"
   ]
  },
  {
   "cell_type": "code",
   "execution_count": null,
   "metadata": {},
   "outputs": [],
   "source": [
    "###From now untill the end of the script is not useful anymore"
   ]
  },
  {
   "cell_type": "code",
   "execution_count": 15,
   "metadata": {},
   "outputs": [],
   "source": [
    "adata = ad.read_text(\"data_raw_fmk.txt\").T\n",
    "metadata = pd.read_csv('meta_dati_fmk.txt', sep=\" \",dtype=\"category\")"
   ]
  },
  {
   "cell_type": "code",
   "execution_count": 16,
   "metadata": {},
   "outputs": [],
   "source": [
    "adata.obs['cell_name']=list(metadata['cell_name'])\n",
    "adata.obs['orig_cluster'] = list(metadata['nomi_cluster'])"
   ]
  },
  {
   "cell_type": "code",
   "execution_count": 17,
   "metadata": {},
   "outputs": [
    {
     "data": {
      "text/plain": [
       "<274x274 sparse matrix of type '<class 'numpy.float32'>'\n",
       "\twith 14071 stored elements in Compressed Sparse Row format>"
      ]
     },
     "execution_count": 17,
     "metadata": {},
     "output_type": "execute_result"
    }
   ],
   "source": [
    "import scipy\n",
    "#os.chdir('/Volumes/GABRIELE')\n",
    "trans = scipy.sparse.load_npz('revisione_dinamica.npz')\n",
    "trans.shape\n",
    "trans"
   ]
  },
  {
   "cell_type": "code",
   "execution_count": 18,
   "metadata": {},
   "outputs": [
    {
     "name": "stderr",
     "output_type": "stream",
     "text": [
      "/opt/anaconda3/lib/python3.7/site-packages/scipy/sparse/compressed.py:287: SparseEfficiencyWarning: Comparing a sparse matrix with a scalar greater than zero using < is inefficient, try using >= instead.\n",
      "  warn(bad_scalar_msg, SparseEfficiencyWarning)\n",
      "/opt/anaconda3/lib/python3.7/site-packages/scipy/sparse/_index.py:126: SparseEfficiencyWarning: Changing the sparsity structure of a csr_matrix is expensive. lil_matrix is more efficient.\n",
      "  self._set_arrayXarray(i, j, x)\n"
     ]
    },
    {
     "data": {
      "text/plain": [
       "<274x274 sparse matrix of type '<class 'numpy.float32'>'\n",
       "\twith 75076 stored elements in Compressed Sparse Row format>"
      ]
     },
     "execution_count": 18,
     "metadata": {},
     "output_type": "execute_result"
    }
   ],
   "source": [
    "trans[trans < 0.01] = 0\n",
    "#trans = csr_matrix(trans)\n",
    "trans\n"
   ]
  },
  {
   "cell_type": "code",
   "execution_count": 19,
   "metadata": {},
   "outputs": [],
   "source": [
    "adata.uns['velocyto_transitions'] = trans"
   ]
  },
  {
   "cell_type": "code",
   "execution_count": 20,
   "metadata": {},
   "outputs": [],
   "source": [
    "adata.uns['velocity_graph']=trans"
   ]
  },
  {
   "cell_type": "code",
   "execution_count": null,
   "metadata": {},
   "outputs": [],
   "source": []
  },
  {
   "cell_type": "code",
   "execution_count": 21,
   "metadata": {},
   "outputs": [
    {
     "name": "stdout",
     "output_type": "stream",
     "text": [
      "running recipe zheng17\n",
      "filtered out 5706 genes that are detected in less than 1 counts\n",
      "normalizing counts per cell\n",
      "    finished (0:00:00)\n",
      "extracting highly variable genes\n",
      "    finished (0:00:01)\n",
      "normalizing counts per cell\n",
      "    finished (0:00:00)\n",
      "    finished (0:00:01)\n",
      "computing PCA\n",
      "    with n_comps=50\n",
      "    finished (0:00:00)\n"
     ]
    }
   ],
   "source": [
    "sc.pp.recipe_zheng17(adata)\n",
    "sc.tl.pca(adata, svd_solver='arpack')"
   ]
  },
  {
   "cell_type": "code",
   "execution_count": 75,
   "metadata": {},
   "outputs": [
    {
     "name": "stdout",
     "output_type": "stream",
     "text": [
      "computing neighbors\n",
      "    using 'X_pca' with n_pcs = 20\n",
      "    finished: added to `.uns['neighbors']`\n",
      "    'distances', distances for each pair of neighbors\n",
      "    'connectivities', weighted adjacency matrix (0:00:00)\n",
      "drawing single-cell graph using layout 'fa'\n",
      "WARNING: Package 'fa2' is not installed, falling back to layout 'fr'.To use the faster and better ForceAtlas2 layout, install package 'fa2' (`pip install fa2`).\n",
      "    finished: added\n",
      "    'X_draw_graph_fr', graph_drawing coordinates (adata.obsm) (0:00:00)\n"
     ]
    }
   ],
   "source": [
    "sc.pp.neighbors(adata, n_neighbors=4, n_pcs=20)\n",
    "sc.tl.draw_graph(adata)"
   ]
  },
  {
   "cell_type": "code",
   "execution_count": 76,
   "metadata": {},
   "outputs": [
    {
     "name": "stderr",
     "output_type": "stream",
     "text": [
      "... storing 'orig_cluster' as categorical\n"
     ]
    },
    {
     "name": "stdout",
     "output_type": "stream",
     "text": [
      "running PAGA\n",
      "    finished: added\n",
      "    'paga/connectivities', connectivities adjacency (adata.uns)\n",
      "    'paga/connectivities_tree', connectivities subtree (adata.uns) (0:00:00)\n"
     ]
    }
   ],
   "source": [
    "sc.tl.paga(adata,groups='orig_cluster')"
   ]
  },
  {
   "cell_type": "code",
   "execution_count": 77,
   "metadata": {},
   "outputs": [
    {
     "name": "stdout",
     "output_type": "stream",
     "text": [
      "--> added 'pos', the PAGA positions (adata.uns['paga'])\n"
     ]
    },
    {
     "data": {
      "image/png": "[encoded data removed]",
      "text/plain": [
       "<Figure size 445.882x288 with 1 Axes>"
      ]
     },
     "metadata": {},
     "output_type": "display_data"
    }
   ],
   "source": [
    "sc.pl.paga(adata,color=['orig_cluster'],threshold=0.2)"
   ]
  },
  {
   "cell_type": "code",
   "execution_count": 78,
   "metadata": {},
   "outputs": [
    {
     "name": "stdout",
     "output_type": "stream",
     "text": [
      "running PAGA\n",
      "    finished: added\n",
      "    'paga/transitions_confidence', connectivities adjacency (adata.uns) (0:00:00)\n"
     ]
    }
   ],
   "source": [
    "sc.tl.paga(adata,groups='orig_cluster', use_rna_velocity=True)"
   ]
  },
  {
   "cell_type": "code",
   "execution_count": 79,
   "metadata": {},
   "outputs": [
    {
     "data": {
      "text/plain": [
       "<3x3 sparse matrix of type '<class 'numpy.float64'>'\n",
       "\twith 3 stored elements in Compressed Sparse Column format>"
      ]
     },
     "execution_count": 79,
     "metadata": {},
     "output_type": "execute_result"
    }
   ],
   "source": [
    "pos=adata.uns['paga']['pos']\n",
    "transition=adata.uns['paga']['transitions_confidence']\n",
    "transition"
   ]
  },
  {
   "cell_type": "code",
   "execution_count": 80,
   "metadata": {},
   "outputs": [
    {
     "name": "stdout",
     "output_type": "stream",
     "text": [
      "--> added 'pos', the PAGA positions (adata.uns['paga'])\n",
      "WARNING: saving figure to file figures/paga_muscle_rna_velocity.pdf\n"
     ]
    },
    {
     "data": {
      "image/png": "[encoded data removed]",
      "text/plain": [
       "<Figure size 445.882x288 with 1 Axes>"
      ]
     },
     "metadata": {},
     "output_type": "display_data"
    }
   ],
   "source": [
    "sc.pl.paga(adata, edge_width_scale=0.2, pos=pos, transitions='transitions_confidence',\n",
    "           title='muscle: PAGA graph (RNA velocity)', save='_muscle_rna_velocity') "
   ]
  },
  {
   "cell_type": "code",
   "execution_count": null,
   "metadata": {},
   "outputs": [],
   "source": []
  }
 ],
 "metadata": {
  "kernelspec": {
   "display_name": "Python 3",
   "language": "python",
   "name": "python3"
  },
  "language_info": {
   "codemirror_mode": {
    "name": "ipython",
    "version": 3
   },
   "file_extension": ".py",
   "mimetype": "text/x-python",
   "name": "python",
   "nbconvert_exporter": "python",
   "pygments_lexer": "ipython3",
   "version": "3.8.5"
  }
 },
 "nbformat": 4,
 "nbformat_minor": 2
}
