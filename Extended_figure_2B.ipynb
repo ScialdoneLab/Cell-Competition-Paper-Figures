{
 "cells": [
  {
   "cell_type": "code",
   "execution_count": 1,
   "metadata": {},
   "outputs": [],
   "source": [
    "%matplotlib inline\n"
   ]
  },
  {
   "cell_type": "code",
   "execution_count": 2,
   "metadata": {},
   "outputs": [
    {
     "name": "stdout",
     "output_type": "stream",
     "text": [
      "WARNING: If you miss a compact list, please try `print_header`!\n",
      "-----\n",
      "anndata     0.7.6\n",
      "scanpy      1.6.0\n",
      "sinfo       0.3.1\n",
      "-----\n",
      "PIL                 7.2.0\n",
      "anndata             0.7.6\n",
      "appnope             0.1.0\n",
      "backcall            0.2.0\n",
      "cairo               1.19.1\n",
      "cffi                1.14.1\n",
      "colorama            0.4.4\n",
      "cycler              0.10.0\n",
      "cython_runtime      NA\n",
      "dateutil            2.8.1\n",
      "decorator           4.4.2\n",
      "future_fstrings     NA\n",
      "get_version         2.1\n",
      "h5py                2.10.0\n",
      "igraph              0.8.2\n",
      "ipykernel           5.3.4\n",
      "ipython_genutils    0.2.0\n",
      "jedi                0.17.2\n",
      "joblib              0.16.0\n",
      "kiwisolver          1.2.0\n",
      "legacy_api_wrap     1.2\n",
      "leidenalg           0.8.3\n",
      "llvmlite            0.34.0\n",
      "louvain             0.7.0\n",
      "matplotlib          3.3.1\n",
      "mpl_toolkits        NA\n",
      "natsort             7.0.1\n",
      "numba               0.51.1\n",
      "numexpr             2.7.1\n",
      "numpy               1.19.4\n",
      "packaging           20.4\n",
      "pandas              1.2.4\n",
      "parso               0.7.1\n",
      "pexpect             4.8.0\n",
      "pickleshare         0.7.5\n",
      "pkg_resources       NA\n",
      "prompt_toolkit      3.0.7\n",
      "ptyprocess          0.6.0\n",
      "pygments            2.6.1\n",
      "pylab               NA\n",
      "pyparsing           2.4.7\n",
      "pytz                2020.1\n",
      "scanpy              1.6.0\n",
      "scipy               1.5.2\n",
      "setuptools_scm      NA\n",
      "sinfo               0.3.1\n",
      "six                 1.15.0\n",
      "sklearn             0.23.2\n",
      "storemagic          NA\n",
      "tables              3.6.1\n",
      "texttable           1.6.2\n",
      "tornado             6.0.4\n",
      "traitlets           5.0.0\n",
      "typing_extensions   NA\n",
      "wcwidth             0.2.5\n",
      "zmq                 19.0.2\n",
      "-----\n",
      "IPython             7.18.1\n",
      "jupyter_client      6.1.7\n",
      "jupyter_core        4.6.3\n",
      "notebook            6.1.3\n",
      "-----\n",
      "Python 3.8.5 | packaged by conda-forge | (default, Aug 29 2020, 01:18:42) [Clang 10.0.1 ]\n",
      "macOS-10.14.6-x86_64-i386-64bit\n",
      "8 logical CPU cores, i386\n",
      "-----\n",
      "Session information updated at 2021-05-08 12:49\n",
      "\n"
     ]
    }
   ],
   "source": [
    "import numpy as np\n",
    "import matplotlib.pyplot as plt\n",
    "import pylab\n",
    "import pandas as pd\n",
    "import anndata as ad\n",
    "import scanpy as sc\n",
    "import matplotlib\n",
    "sc.settings.verbosity = 3  # verbosity: errors (0), warnings (1), info (2), hints (3)\n",
    "sc.logging.print_versions()"
   ]
  },
  {
   "cell_type": "code",
   "execution_count": 6,
   "metadata": {},
   "outputs": [],
   "source": [
    "import os\n",
    "os.chdir('/Users/gabriele.lubatti/Desktop/Phd/Cell_Competition/Cell_Competition_Github/Input_data_Paper_Figures')"
   ]
  },
  {
   "cell_type": "code",
   "execution_count": 7,
   "metadata": {},
   "outputs": [],
   "source": [
    "adata = ad.read_text(\"data_raw.txt\").T\n",
    "metadata = pd.read_csv('meta_all.txt', sep=\" \",dtype=\"category\")"
   ]
  },
  {
   "cell_type": "code",
   "execution_count": 8,
   "metadata": {},
   "outputs": [
    {
     "data": {
      "text/plain": [
       "AnnData object with n_obs × n_vars = 723 × 37351"
      ]
     },
     "execution_count": 8,
     "metadata": {},
     "output_type": "execute_result"
    }
   ],
   "source": [
    "adata"
   ]
  },
  {
   "cell_type": "code",
   "execution_count": 9,
   "metadata": {},
   "outputs": [],
   "source": [
    "adata.obs['cell_name']=list(metadata['cell_name'])\n",
    "adata.obs['orig_cluster'] = list(metadata['nomi_cluster'])"
   ]
  },
  {
   "cell_type": "code",
   "execution_count": 10,
   "metadata": {},
   "outputs": [
    {
     "data": {
      "text/plain": [
       "723"
      ]
     },
     "execution_count": 10,
     "metadata": {},
     "output_type": "execute_result"
    }
   ],
   "source": [
    "len(adata.obs['cell_name'])"
   ]
  },
  {
   "cell_type": "code",
   "execution_count": 11,
   "metadata": {},
   "outputs": [],
   "source": [
    "adata.X = adata.X.astype('float64') "
   ]
  },
  {
   "cell_type": "code",
   "execution_count": 12,
   "metadata": {},
   "outputs": [
    {
     "name": "stdout",
     "output_type": "stream",
     "text": [
      "running recipe zheng17\n",
      "filtered out 2354 genes that are detected in less than 1 counts\n",
      "normalizing counts per cell\n",
      "    finished (0:00:00)\n",
      "extracting highly variable genes\n",
      "    finished (0:00:00)\n",
      "normalizing counts per cell\n",
      "    finished (0:00:00)\n",
      "    finished (0:00:01)\n",
      "computing PCA\n",
      "    with n_comps=50\n",
      "    finished (0:00:00)\n"
     ]
    }
   ],
   "source": [
    "sc.pp.recipe_zheng17(adata)\n",
    "sc.tl.pca(adata, svd_solver='arpack')"
   ]
  },
  {
   "cell_type": "code",
   "execution_count": 13,
   "metadata": {},
   "outputs": [
    {
     "name": "stdout",
     "output_type": "stream",
     "text": [
      "computing neighbors\n",
      "    using 'X_pca' with n_pcs = 20\n",
      "    finished: added to `.uns['neighbors']`\n",
      "    `.obsp['distances']`, distances for each pair of neighbors\n",
      "    `.obsp['connectivities']`, weighted adjacency matrix (0:00:03)\n",
      "drawing single-cell graph using layout 'fa'\n",
      "WARNING: Package 'fa2' is not installed, falling back to layout 'fr'.To use the faster and better ForceAtlas2 layout, install package 'fa2' (`pip install fa2`).\n",
      "    finished: added\n",
      "    'X_draw_graph_fr', graph_drawing coordinates (adata.obsm) (0:00:00)\n"
     ]
    }
   ],
   "source": [
    "sc.pp.neighbors(adata, n_neighbors=4, n_pcs=20)\n",
    "sc.tl.draw_graph(adata)"
   ]
  },
  {
   "cell_type": "code",
   "execution_count": 14,
   "metadata": {},
   "outputs": [
    {
     "name": "stderr",
     "output_type": "stream",
     "text": [
      "... storing 'orig_cluster' as categorical\n"
     ]
    },
    {
     "name": "stdout",
     "output_type": "stream",
     "text": [
      "running PAGA\n",
      "    finished: added\n",
      "    'paga/connectivities', connectivities adjacency (adata.uns)\n",
      "    'paga/connectivities_tree', connectivities subtree (adata.uns) (0:00:00)\n"
     ]
    }
   ],
   "source": [
    "sc.tl.paga(adata,groups='orig_cluster')"
   ]
  },
  {
   "cell_type": "code",
   "execution_count": 15,
   "metadata": {},
   "outputs": [
    {
     "name": "stdout",
     "output_type": "stream",
     "text": [
      "--> added 'pos', the PAGA positions (adata.uns['paga'])\n"
     ]
    },
    {
     "data": {
      "image/png": "[encoded data removed]",
      "text/plain": [
       "<Figure size 445.882x288 with 1 Axes>"
      ]
     },
     "metadata": {},
     "output_type": "display_data"
    }
   ],
   "source": [
    "sc.pl.paga(adata,color=['orig_cluster'],threshold=0.1)"
   ]
  }
 ],
 "metadata": {
  "kernelspec": {
   "display_name": "Python 3",
   "language": "python",
   "name": "python3"
  },
  "language_info": {
   "codemirror_mode": {
    "name": "ipython",
    "version": 3
   },
   "file_extension": ".py",
   "mimetype": "text/x-python",
   "name": "python",
   "nbconvert_exporter": "python",
   "pygments_lexer": "ipython3",
   "version": "3.8.5"
  }
 },
 "nbformat": 4,
 "nbformat_minor": 2
}
